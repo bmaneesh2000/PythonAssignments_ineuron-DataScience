{
 "cells": [
  {
   "cell_type": "code",
   "execution_count": null,
   "metadata": {},
   "outputs": [],
   "source": [
    "#1\n",
    "\n",
    "\"\"\" Q1. What is Flask Framework? What are the advantages of Flask Framework? \"\"\"\n",
    "\n",
    "#Answers\n",
    "\n",
    "\"\"\" Flask is a web framework that provides libraries to build lightweight web applications in python. \"\"\"\n",
    "\n",
    "# Advantages\n",
    "\n",
    "\"\"\" \n",
    "Scalable\n",
    "Flexible\n",
    "Easy to Navigate\n",
    "Lightweight\n",
    "Documentation\n",
    "\"\"\""
   ]
  },
  {
   "cell_type": "code",
   "execution_count": null,
   "metadata": {},
   "outputs": [],
   "source": [
    "#2\n",
    "\n",
    "\"\"\" Q2. Create a simple Flask application to display ‘Hello World!!’. Attach the screenshot of the output in\n",
    "Jupyter Notebook. \"\"\"\n",
    "\n",
    "#Answers\n",
    "\n",
    "from flask import Flask\n",
    "\n",
    "app = Flask(__name__)\n",
    "\n",
    "@app.route(\"/\")\n",
    "def hello_world():\n",
    "    return \"<h1>Hello, World!</h1>\"\n",
    "\n",
    "if __name__==\"__main__\":\n",
    "    app.run(host=\"0.0.0.0\")"
   ]
  },
  {
   "attachments": {},
   "cell_type": "markdown",
   "metadata": {},
   "source": [
    "![Q2Output](FlaskQ2.png)"
   ]
  },
  {
   "cell_type": "code",
   "execution_count": null,
   "metadata": {},
   "outputs": [],
   "source": [
    "#3\n",
    "\n",
    "\"\"\" Q3. What is App routing in Flask? Why do we use app routes? \"\"\"\n",
    "\n",
    "#Answers\n",
    "\n",
    "\"\"\" \n",
    "App Routing means mapping the URLs to a specific function that will handle the logic for that URL. \n",
    "Modern web frameworks use more meaningful URLs to help users remember the URLs and make navigation simpler. \n",
    "\n",
    "Example: In our application, the URL (“/”) is associated with the root URL. \n",
    "\n",
    "So if our sites domain was www.example.org and we want to add routing to “www.example.org/hello”, we would use “/hello”. \n",
    "\n",
    "To bind a function to an URL path we use the app.route decorator. \n",
    "\n",
    "\n",
    "\"\"\"\n",
    "\n"
   ]
  },
  {
   "cell_type": "code",
   "execution_count": null,
   "metadata": {},
   "outputs": [],
   "source": [
    "#4\n",
    "\n",
    "\"\"\" \n",
    "Q4. Create a “/welcome” route to display the welcome message “Welcome to ABC Corporation” and a “/”\n",
    "route to show the following details:\n",
    "Company Name: ABC Corporation\n",
    "Location: India\n",
    "Contact Detail: 999-999-9999\n",
    "\n",
    "\"\"\"\n",
    "\n",
    "#Answers\n",
    "\n",
    "from flask import Flask\n",
    "\n",
    "app = Flask(__name__)\n",
    "\n",
    "@app.route(\"/\")\n",
    "def hello_world():\n",
    "    return \"<ul><li>Company Name: ABC Corporation</li><li>Location: India</li><li>Contact Detail: 999-999-9999</li></ul> \"\n",
    "\n",
    "@app.route(\"/welcome\")\n",
    "def hello_world1():\n",
    "    return \"<h1>Welcome to ABC Corporation</h1>\"\n",
    "\n",
    "if __name__==\"__main__\":\n",
    "    app.run(host=\"0.0.0.0\")"
   ]
  },
  {
   "attachments": {},
   "cell_type": "markdown",
   "metadata": {},
   "source": [
    "![Q2Output](FlaskQ4.png)\n",
    "![Q2Output](FlaskQ4a.png)"
   ]
  },
  {
   "cell_type": "code",
   "execution_count": null,
   "metadata": {},
   "outputs": [],
   "source": [
    "#Q5\n",
    "\n",
    "\"\"\" Q5. What function is used in Flask for URL Building? Write a Python code to demonstrate the working of the\n",
    "url_for() function. \"\"\"\n",
    "\n",
    "#Answers\n",
    "\n",
    "#Flask URL Building\n",
    "\n",
    "\"\"\" \n",
    "The url_for() function is used to build a URL to the specific function dynamically. \n",
    "\n",
    "The first argument is the name of the specified function, and then we can pass any number of keyword argument corresponding to the variable part of the URL.\n",
    "\n",
    "This function is useful in the sense that we can avoid hard-coding the URLs into the templates by dynamically building them using this function.\n",
    "\"\"\"\n",
    "\n",
    "from flask import *  \n",
    "\n",
    "app = Flask(__name__)\n",
    "\n",
    "@app.route('/Name')  \n",
    "def admin():  \n",
    "    return 'Maneesh'  \n",
    "  \n",
    "@app.route('/Contact')  \n",
    "def librarion():  \n",
    "    return '8999133913191331939131'  \n",
    "  \n",
    "@app.route('/Address')  \n",
    "def student():  \n",
    "    return 'Tokyo'  \n",
    "  \n",
    "@app.route('/user/<name>')  \n",
    "def user(name):  \n",
    "    if name == 'name':  \n",
    "        return redirect(url_for('Name'))  \n",
    "    if name == 'number':  \n",
    "        return redirect(url_for('Contact'))  \n",
    "    if name == 'Address':  \n",
    "        return redirect(url_for('Address'))  \n",
    "\n",
    "if __name__==\"__main__\":\n",
    "    app.run(host=\"0.0.0.0\")"
   ]
  }
 ],
 "metadata": {
  "kernelspec": {
   "display_name": "Python 3",
   "language": "python",
   "name": "python3"
  },
  "language_info": {
   "codemirror_mode": {
    "name": "ipython",
    "version": 3
   },
   "file_extension": ".py",
   "mimetype": "text/x-python",
   "name": "python",
   "nbconvert_exporter": "python",
   "pygments_lexer": "ipython3",
   "version": "3.10.6"
  },
  "orig_nbformat": 4,
  "vscode": {
   "interpreter": {
    "hash": "916dbcbb3f70747c44a77c7bcd40155683ae19c65e1c03b4aa3499c5328201f1"
   }
  }
 },
 "nbformat": 4,
 "nbformat_minor": 2
}
