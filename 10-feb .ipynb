{
 "cells": [
  {
   "cell_type": "code",
   "execution_count": 26,
   "metadata": {},
   "outputs": [],
   "source": [
    "#1\n",
    "\n",
    "\"\"\"Q1. Which function is used to open a file? What are the different modes of opening a file? Explain each mode\n",
    "of file opening.\"\"\"\n",
    "\n",
    "#Answer\n",
    "\n",
    "\"\"\"\n",
    "The key function for working with files in Python is the open() function.\n",
    "The open() function takes two parameters; filename, and mode.\n",
    "\n",
    "There are four different modes for opening a file:\n",
    "\n",
    "\"r\" - Read - Default value. Opens a file for reading, error if the file does not exist\n",
    "\n",
    "\"a\" - Append - Opens a file for appending, creates the file if it does not exist\n",
    "\n",
    "\"w\" - Write - Opens a file for writing, creates the file if it does not exist\n",
    "\n",
    "\"x\" - Create - Creates the specified file, returns an error if the file exists\n",
    "\n",
    "\"\"\"\n",
    "\n",
    "f = open(\"Assignment.txt\", \"a\")"
   ]
  },
  {
   "cell_type": "code",
   "execution_count": 27,
   "metadata": {},
   "outputs": [],
   "source": [
    "#2 \n",
    "\n",
    "\"\"\"Q2. Why close() function is used? Why is it important to close a file?\"\"\"\n",
    "\n",
    "#Answer\n",
    "\n",
    "\"\"\"Python file method close() closes the opened file. A closed file cannot be read or written any more. \"\"\"\n",
    "\n",
    "f.close()"
   ]
  },
  {
   "cell_type": "code",
   "execution_count": 28,
   "metadata": {},
   "outputs": [
    {
     "name": "stdout",
     "output_type": "stream",
     "text": [
      "I want to become a Data ScientistI want to become a Data ScientistI want to become a Data ScientistI will to become a Data ScientistI want to become a Data ScientistI will to become a Data ScientistI want to become a Data Scientist\n"
     ]
    }
   ],
   "source": [
    "#3\n",
    "\n",
    "\"\"\"Q3. Write a python program to create a text file. Write ‘I want to become a Data Scientist’ in that file. Then\n",
    "close the file. Open this file and read the content of the file.\"\"\"\n",
    "\n",
    "#Answer\n",
    "\n",
    "f = open(\"Assignment3.txt\", \"a\")\n",
    "f.write(\"I want to become a Data Scientist\")\n",
    "f.close()\n",
    "f = open(\"Assignment3.txt\", \"r\")\n",
    "print(f.read())\n",
    "\n",
    "\n"
   ]
  },
  {
   "cell_type": "code",
   "execution_count": 29,
   "metadata": {},
   "outputs": [
    {
     "name": "stdout",
     "output_type": "stream",
     "text": [
      "['\\n', 'I want to become a Data Scientist\\n', 'I want to become a Data Scientist\\n', 'I want to become a Data Scientist\\n']\n"
     ]
    }
   ],
   "source": [
    "#4\n",
    "\n",
    "\"\"\"Q4. Explain the following with python code: read(), readline() and readlines().\"\"\"\n",
    "\n",
    "#Answers\n",
    "\n",
    "\"\"\"\n",
    "a)Read( ):Returns the read bytes in the form of a string.\n",
    "Reads n bytes; if n is not specified, then reads the entire file.\n",
    "\n",
    "b)Readline( ):Reads a line of the file and returns in the form of a string. readline ( ) function does not read more than one line at a time\n",
    "If n is provided as a parameter than only n characters will be returned if the line is longer than n.\n",
    "\n",
    "c)Readlines( ):Reads all the lines and returns them as a string element in a list.\n",
    "Readlines( ) is used to read all the lines at a single go and return a string element in a list.\n",
    "\n",
    "\"\"\"\n",
    "# Example\n",
    "\n",
    "f = open(\"Assignment4.txt\", \"a\")\n",
    "f.write(\"I want to become a Data Scientist\\n\")\n",
    "f.close()\n",
    "f = open(\"Assignment4.txt\", \"r\")\n",
    "print(f.readlines())"
   ]
  },
  {
   "cell_type": "code",
   "execution_count": 30,
   "metadata": {},
   "outputs": [
    {
     "name": "stdout",
     "output_type": "stream",
     "text": [
      "PW Skills Assignment Q5\n"
     ]
    }
   ],
   "source": [
    "#5\n",
    "\n",
    "\"\"\"Q5. Explain why with statement is used with open(). What is the advantage of using with statement and open() together?\"\"\"\n",
    "\n",
    "# Answers\n",
    "\n",
    "\"\"\"\n",
    " with statement is used in exception handling to make the code cleaner and much more readable there is no need to call file.close() when using with statement. \n",
    " The with statement itself ensures proper acquisition and release of resources. \n",
    "\"\"\"\n",
    "\n",
    "#Example\n",
    "\n",
    "with open('Q5.txt', 'w') as f:\n",
    "    f.write('PW Skills Assignment Q5')\n",
    "\n",
    "with open('Q5.txt', 'r') as f:\n",
    "    print(f.read())\n",
    "\n"
   ]
  },
  {
   "cell_type": "code",
   "execution_count": 31,
   "metadata": {},
   "outputs": [],
   "source": [
    "#6\n",
    "\n",
    "\"\"\"Q6. Explain the write() and writelines() functions. Give a suitable example.\"\"\"\n",
    "\n",
    "#Answers\n",
    "\n",
    "\"\"\"\n",
    "\n",
    "a) The write() function will write the content in the file without adding any extra characters.\n",
    "the string that is passed to the write() function is written into the opened file. \n",
    "\n",
    "b) The writelines() function writes the content of a list to a file.\n",
    "the list of strings that is passed to the writelines() function is written into the opened file.\n",
    "\n",
    "\"\"\"\n",
    "\n",
    "#Examples\n",
    "\n",
    "f=open('Q6.txt', 'a')\n",
    "f.write('PW Skills Assignment Q6')\n",
    "f.close()\n",
    "\n",
    "f=open('Q6.txt', 'a')\n",
    "f.writelines([\"I want to become a Data Scientist\\n\",\"PwQ6\"])\n",
    "f.close()"
   ]
  }
 ],
 "metadata": {
  "kernelspec": {
   "display_name": "Python 3",
   "language": "python",
   "name": "python3"
  },
  "language_info": {
   "codemirror_mode": {
    "name": "ipython",
    "version": 3
   },
   "file_extension": ".py",
   "mimetype": "text/x-python",
   "name": "python",
   "nbconvert_exporter": "python",
   "pygments_lexer": "ipython3",
   "version": "3.10.6"
  },
  "orig_nbformat": 4,
  "vscode": {
   "interpreter": {
    "hash": "916dbcbb3f70747c44a77c7bcd40155683ae19c65e1c03b4aa3499c5328201f1"
   }
  }
 },
 "nbformat": 4,
 "nbformat_minor": 2
}
