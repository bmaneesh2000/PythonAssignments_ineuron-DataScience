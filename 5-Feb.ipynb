{
 "cells": [
  {
   "cell_type": "code",
   "execution_count": null,
   "metadata": {},
   "outputs": [],
   "source": [
    "#1\n",
    "\n",
    "\"\"\"Q1. Explain Class and Object with respect to Object-Oriented Programming. Give a suitable example.\"\"\"\n",
    "\n",
    "#Answers\n",
    "\n",
    "#\tClass is a blueprint or template from which objects are created. It  is a group of similar objects and is declared using class keyword \n",
    "\n",
    "#   Object is an instance of a class. Object is a real world entity representing an physical entity. Object is created through new keyword \n",
    "\n"
   ]
  },
  {
   "cell_type": "code",
   "execution_count": null,
   "metadata": {},
   "outputs": [],
   "source": [
    "#2\n",
    "\n",
    "\"\"\"Q2. Name the four pillars of OOPs.\"\"\"\n",
    "\n",
    "#Answer\n",
    "\n",
    "\"\"\"\n",
    "1. Abstraction\n",
    "\n",
    "2. Encapsulation\n",
    "\n",
    "3. Inheritance\n",
    "\n",
    "4. Polymorphism\n",
    "\n",
    "\"\"\""
   ]
  },
  {
   "cell_type": "code",
   "execution_count": 2,
   "metadata": {},
   "outputs": [
    {
     "name": "stdout",
     "output_type": "stream",
     "text": [
      "maneesh mahesh\n"
     ]
    }
   ],
   "source": [
    "#3\n",
    "\n",
    "\"\"\" Q3. Explain why the __init__() function is used. Give a suitable example. \"\"\"\n",
    "\n",
    "#Answer\n",
    "\n",
    "\"\"\" The __init__ method is the Python equivalent to an constructor in an object-oriented approach.\n",
    "The __init__  function is called every time an object is created from a class.\n",
    "The __init__ method lets the class initialize the objects attributes. \"\"\"\n",
    "\n",
    "class Student:                   \n",
    " \n",
    "    def __init__(self,Name,id):\n",
    "  \n",
    "        self.Name = Name       \n",
    "        self.id = id\n",
    "        \n",
    "    def r(self):\n",
    "        \n",
    "        return self.Name\n",
    "\n",
    "maneesh=Student(\"maneesh\",2002)\n",
    "mahesh=Student(\"mahesh\",23002)\n",
    "print(maneesh.r(),mahesh.r())\n"
   ]
  },
  {
   "cell_type": "code",
   "execution_count": null,
   "metadata": {},
   "outputs": [],
   "source": [
    "#4\n",
    "\n",
    "\"\"\" Q4. Why self is used in OOPs? \"\"\"\n",
    "\n",
    "#Answers\n",
    "\n",
    "# Self is a keyword used inside an class to refrence the current object\n",
    "# self represents the instance of the class. By using the “self”  we can access the attributes and methods of the class in python. "
   ]
  },
  {
   "cell_type": "code",
   "execution_count": 3,
   "metadata": {},
   "outputs": [
    {
     "name": "stdout",
     "output_type": "stream",
     "text": [
      " Grandpa\n",
      "Father\n",
      " Mother\n"
     ]
    }
   ],
   "source": [
    "#5\n",
    "\n",
    "\"\"\" Q5 What is inheritance? Give an example for each type of inheritance.\"\"\"\n",
    "\n",
    "#Answers\n",
    "\n",
    "\"\"\"Inheritance allows us to define a class that inherits all the methods and properties from another class.\n",
    "Parent class is the class being inherited from, also called base class. Child class is the class that inherits from another class, also called derived class\"\"\"\n",
    "#Types of inheritance \n",
    "\"\"\"Single inheritance (Father -> Son ).\n",
    "Multi-level inheritance. (Grandpa-> father->Son)\n",
    "Multiple inheritance. (mom,father->son)\n",
    "Hierarchical Inheritance. (father-> son1,son2,son3)\n",
    "Hybrid Inheritance. (an mixture of the all the above )\"\"\"\n",
    "\n",
    "#Example\n",
    "\n",
    "class Grandpa:\n",
    "    def func1(self):\n",
    "        print(\" Grandpa\")\n",
    "\n",
    "class Mom:\n",
    "    def func5(self):\n",
    "        print(\" Mother\")\n",
    "\n",
    " \n",
    " \n",
    "class Father(Grandpa):\n",
    "    def func2(self):\n",
    "        print(\"Father\")\n",
    " \n",
    " \n",
    "class Uncle(Grandpa):\n",
    "    def func3(self):\n",
    "        print(\"Uncle\")\n",
    " \n",
    " \n",
    "class Son(Father, Mom):\n",
    "    def func4(self):\n",
    "        print(\"Son\")\n",
    " \n",
    "\n",
    "object = Son()\n",
    "object.func1()\n",
    "object.func2()\n",
    "object.func5()"
   ]
  }
 ],
 "metadata": {
  "kernelspec": {
   "display_name": "Python 3",
   "language": "python",
   "name": "python3"
  },
  "language_info": {
   "codemirror_mode": {
    "name": "ipython",
    "version": 3
   },
   "file_extension": ".py",
   "mimetype": "text/x-python",
   "name": "python",
   "nbconvert_exporter": "python",
   "pygments_lexer": "ipython3",
   "version": "3.10.6"
  },
  "orig_nbformat": 4,
  "vscode": {
   "interpreter": {
    "hash": "916dbcbb3f70747c44a77c7bcd40155683ae19c65e1c03b4aa3499c5328201f1"
   }
  }
 },
 "nbformat": 4,
 "nbformat_minor": 2
}
