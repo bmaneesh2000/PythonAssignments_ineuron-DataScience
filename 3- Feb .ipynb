{
 "cells": [
  {
   "cell_type": "code",
   "execution_count": 1,
   "metadata": {},
   "outputs": [
    {
     "name": "stdout",
     "output_type": "stream",
     "text": [
      "[1, 3, 5, 7, 9, 11, 13, 15, 17, 19, 21, 23, 25]\n"
     ]
    }
   ],
   "source": [
    "# Q1. Which keyword is used to create a function? Create a function to return a list of odd numbers in the range of 1 to 25.\n",
    "\n",
    "#Answer\n",
    "\n",
    "# def keyword is used to create new functions.\n",
    "\n",
    "def F():\n",
    "    l=[]\n",
    "    for x in range(1,26):\n",
    "        if x%2!=0:\n",
    "            l.append(x)\n",
    "    return l\n",
    "\n",
    "r = F()\n",
    "print(r)\n",
    "\n"
   ]
  },
  {
   "cell_type": "code",
   "execution_count": 4,
   "metadata": {},
   "outputs": [
    {
     "name": "stdout",
     "output_type": "stream",
     "text": [
      "(1, 2, 3, 4, 5)\n",
      "(2, 3, 4, 88, 9, 2, 1, 66)\n",
      "{'a': 20, 'b': 30}\n",
      "{'a': 'ggg', 'b': 30, 'v': 'sample'}\n"
     ]
    }
   ],
   "source": [
    "# Q2 Why *args and **kwargs is used in some functions? Create a function each for *args and **kwargs to demonstrate their use.\n",
    "\n",
    "#Answer\n",
    "\n",
    "# *args is used to pass variable number of arguments through function calls it is sent as a list. **kwargs is used to pass a variable number of key value pairs to the functions as arguments sent as a dictionary.\n",
    "\n",
    "#*args\n",
    "\n",
    "def F1(*args):\n",
    "    print(args)\n",
    "\n",
    "F1(1,2,3,4,5)\n",
    "F1(2,3,4,88,9,2,1,66)\n",
    "\n",
    "#**kwargs\n",
    "\n",
    "def F2(**kwargs):\n",
    "    print(kwargs)\n",
    "F2(a=20,b=30)\n",
    "F2(a=\"ggg\",b=30,v=\"sample\")"
   ]
  },
  {
   "cell_type": "code",
   "execution_count": 7,
   "metadata": {},
   "outputs": [
    {
     "name": "stdout",
     "output_type": "stream",
     "text": [
      "<list_iterator object at 0x7fdd8c4ea1d0>\n",
      "2\n",
      "4\n",
      "6\n",
      "8\n",
      "10\n"
     ]
    }
   ],
   "source": [
    "# Q3\n",
    "\n",
    "\"\"\" Q3. What is an iterator in python? Name the method used to initialise the iterator object and the method used for iteration. Use these methods to print the first five elements of the given list [2, 4, 6, 8, 10, 12, 14, 16,\n",
    "#18, 20]. \"\"\"\n",
    "\n",
    "#Answers\n",
    "\n",
    "#An iterator is an object that contains a countable number of values and that can be iterated upon.\n",
    "\n",
    "l=[2, 4, 6, 8, 10, 12, 14, 16, 18, 20]\n",
    "i=iter(l)\n",
    "print(i)\n",
    "for x in range(5):\n",
    "    print(next(i))\n"
   ]
  },
  {
   "cell_type": "code",
   "execution_count": 8,
   "metadata": {},
   "outputs": [
    {
     "name": "stdout",
     "output_type": "stream",
     "text": [
      "<generator object sample at 0x7fdd8c633e60>\n",
      "0\n",
      "1\n",
      "2\n",
      "3\n",
      "4\n"
     ]
    }
   ],
   "source": [
    "# 4\n",
    "\n",
    "\"\"\"Q4. What is a generator function in python? Why yield keyword is used? Give an example of a generator function.\"\"\"\n",
    "\n",
    "# Answers\n",
    "\n",
    "# A generator function is an function used to create an custom iterable object unlike the full data provided in normal fuctions, this is very memory efficient\n",
    "# yield keyword is used rather than a return statement this will return the value against the yield keyword each time it is called in an iterable object\n",
    "\n",
    "def sample():\n",
    "    for x in range(5):\n",
    "        yield x\n",
    "i=sample()\n",
    "print(i)\n",
    "for x in range(5):\n",
    "    print(next(i))"
   ]
  },
  {
   "cell_type": "code",
   "execution_count": 13,
   "metadata": {},
   "outputs": [
    {
     "name": "stdout",
     "output_type": "stream",
     "text": [
      "<generator object Prime at 0x7fdd883687b0>\n",
      "2\n",
      "3\n",
      "5\n",
      "7\n",
      "11\n",
      "13\n",
      "17\n",
      "19\n",
      "23\n",
      "29\n",
      "31\n",
      "37\n",
      "41\n",
      "43\n",
      "47\n",
      "53\n",
      "59\n",
      "61\n",
      "67\n",
      "71\n"
     ]
    }
   ],
   "source": [
    "#5\n",
    "\n",
    "\"\"\"Q5. Create a generator function for prime numbers less than 1000. Use the next() method to print the\n",
    "first 20 prime numbers.\"\"\"\n",
    "\n",
    "def Prime():\n",
    "\n",
    "    for Number in range (1, 1001):\n",
    "        count = 0\n",
    "        for i in range(2, (Number//2 + 1)):\n",
    "            if(Number % i == 0):\n",
    "                count = count + 1\n",
    "                break\n",
    "\n",
    "        if (count == 0 and Number != 1):\n",
    "            yield Number\n",
    "c=Prime()\n",
    "print(c)\n",
    "\n",
    "for x in range(20):\n",
    "    print(next(c))"
   ]
  }
 ],
 "metadata": {
  "kernelspec": {
   "display_name": "Python 3",
   "language": "python",
   "name": "python3"
  },
  "language_info": {
   "codemirror_mode": {
    "name": "ipython",
    "version": 3
   },
   "file_extension": ".py",
   "mimetype": "text/x-python",
   "name": "python",
   "nbconvert_exporter": "python",
   "pygments_lexer": "ipython3",
   "version": "3.10.6"
  },
  "orig_nbformat": 4,
  "vscode": {
   "interpreter": {
    "hash": "916dbcbb3f70747c44a77c7bcd40155683ae19c65e1c03b4aa3499c5328201f1"
   }
  }
 },
 "nbformat": 4,
 "nbformat_minor": 2
}
