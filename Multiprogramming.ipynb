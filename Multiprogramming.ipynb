{
 "cells": [
  {
   "cell_type": "code",
   "execution_count": null,
   "metadata": {},
   "outputs": [],
   "source": [
    "#1\n",
    "\n",
    "\"\"\" Q1. What is multiprocessing in python? Why is it useful? \"\"\"\n",
    "\n",
    "#Answers\n",
    "\n",
    "\"\"\" \n",
    "Multiprocessing refers to the ability of a system to support more than one processor at the same time. \n",
    "Applications in a multiprocessing system are broken to smaller routines that run independently. \n",
    "The operating system allocates these threads to the processors improving performance of the system.\n",
    "Using the Multiprocessing module the CPU can easily executes several tasks at once, with each task using its own processor.\n",
    "\"\"\""
   ]
  },
  {
   "cell_type": "code",
   "execution_count": null,
   "metadata": {},
   "outputs": [],
   "source": [
    "#2\n",
    "\n",
    "\"\"\" Q2. What are the differences between multiprocessing and multithreading? \"\"\"\n",
    "\n",
    "#Answers\n",
    "\n",
    "\"\"\" \n",
    "While multithreading and multiprocessing can both be used to increase the computing power of a system, there are some key differences between these approaches. \n",
    "\n",
    "Here are some of the primary ways these methods differ from one another:\n",
    "\n",
    "Multiprocessing uses two or more CPUs to increase computing power, whereas multithreading uses a single process with multiple code segments to increase computing power.\n",
    "Multithreading focuses on generating computing threads from a single process, whereas multiprocessing increases computing power by adding CPUs.\n",
    "Multiprocessing is used to create a more reliable system, whereas multithreading is used to create threads that run parallel to each other.\n",
    "multithreading is quick to create and requires few resources, whereas multiprocessing requires a significant amount of time and specific resources to create.\n",
    "Multiprocessing executes many processes simultaneously, whereas multithreading executes many threads simultaneously.\n",
    "Multithreading uses a common address space for all the threads, whereas multiprocessing creates a separate address space for each process.\n",
    "\n",
    "\"\"\""
   ]
  },
  {
   "cell_type": "code",
   "execution_count": 1,
   "metadata": {},
   "outputs": [
    {
     "name": "stdout",
     "output_type": "stream",
     "text": [
      "Main\n",
      "Multiprocessing Demo\n"
     ]
    }
   ],
   "source": [
    "#3\n",
    "\n",
    "\"\"\" Q3. Write a python code to create a process using the multiprocessing module. \"\"\"\n",
    "\n",
    "#Answers\n",
    "\n",
    "import multiprocessing\n",
    "\n",
    "def f():\n",
    "    print(\"Multiprocessing Demo\")\n",
    "\n",
    "if __name__== \"__main__\" :\n",
    "    m=multiprocessing.Process(target=f)\n",
    "    print(\"Main Body\")\n",
    "    m.start()\n",
    "    m.join()"
   ]
  },
  {
   "cell_type": "code",
   "execution_count": 2,
   "metadata": {},
   "outputs": [
    {
     "data": {
      "text/plain": [
       "<multiprocessing.pool.Pool state=RUN pool_size=4>"
      ]
     },
     "execution_count": 2,
     "metadata": {},
     "output_type": "execute_result"
    }
   ],
   "source": [
    "#4\n",
    "\n",
    "\"\"\" Q4. What is a multiprocessing pool in python? Why is it used? \"\"\"\n",
    "\n",
    "#Answers\n",
    "\n",
    "\"\"\" The Python Multiprocessing Pool class allows you to create and manage process pools in Python.\n",
    "It allows tasks to be submitted as functions to the process pool to be executed concurrently.\n",
    "\n",
    "A process pool is a programming pattern for automatically managing a pool of worker processes.\n",
    "\n",
    "The pool is responsible for a fixed number of processes.\n",
    "\n",
    "It controls when they are created, such as when they are needed.\n",
    "It also controls what they should do when they are not being used, such as making them wait without consuming computational resources.\n",
    "\n",
    "The Pool object which offers a convenient means of parallelizing the execution of a function across multiple input values, distributing the input data across processes. \n",
    "\"\"\"\n",
    "\n",
    "import multiprocessing \n",
    "\n",
    "multiprocessing.Pool()\n",
    "\n"
   ]
  },
  {
   "cell_type": "code",
   "execution_count": 11,
   "metadata": {},
   "outputs": [
    {
     "name": "stdout",
     "output_type": "stream",
     "text": [
      "400900\n",
      "\n"
     ]
    }
   ],
   "source": [
    "#5\n",
    "\n",
    "\"\"\" Q5. How can we create a pool of worker processes in python using the multiprocessing module? \"\"\"\n",
    "\n",
    "#Answer\n",
    "\n",
    "\"\"\" \n",
    "The multiprocessing.pool.Pool class provides a process pool in Python.\n",
    "The multiprocessing.pool.Pool class can also be accessed by the alias multiprocessing.Pool.\n",
    "The multiprocessing.Pool provides a pool of generic worker processes.\n",
    "\"\"\"\n",
    "import multiprocessing \n",
    "def f(x):\n",
    "    print(x*x)\n",
    "\n",
    "p=multiprocessing.Pool()\n",
    "c=p.map(f,[20,30])\n",
    "\n"
   ]
  },
  {
   "cell_type": "code",
   "execution_count": 25,
   "metadata": {},
   "outputs": [
    {
     "name": "stdout",
     "output_type": "stream",
     "text": [
      "1023\n",
      "\n",
      "\n",
      "\n",
      "6\n",
      "4\n",
      "798\n",
      "5\n",
      "\n",
      "\n"
     ]
    }
   ],
   "source": [
    "#6\n",
    "\n",
    "\"\"\" Q6. Write a python program to create 4 processes, each process should print a different number using the\n",
    "multiprocessing module in python. \"\"\"\n",
    "\n",
    "#Answer\n",
    "\n",
    "from multiprocessing import Pool\n",
    "import time\n",
    "\n",
    "\n",
    "def f(x):\n",
    "    print(x)\n",
    "\n",
    "if __name__ == '__main__':\n",
    "    # start 4 worker processes\n",
    "    with Pool(processes=4) as pool:\n",
    "\n",
    "        pool.map(f, range(10))"
   ]
  }
 ],
 "metadata": {
  "kernelspec": {
   "display_name": "Python 3",
   "language": "python",
   "name": "python3"
  },
  "language_info": {
   "codemirror_mode": {
    "name": "ipython",
    "version": 3
   },
   "file_extension": ".py",
   "mimetype": "text/x-python",
   "name": "python",
   "nbconvert_exporter": "python",
   "pygments_lexer": "ipython3",
   "version": "3.10.6"
  },
  "orig_nbformat": 4,
  "vscode": {
   "interpreter": {
    "hash": "916dbcbb3f70747c44a77c7bcd40155683ae19c65e1c03b4aa3499c5328201f1"
   }
  }
 },
 "nbformat": 4,
 "nbformat_minor": 2
}
