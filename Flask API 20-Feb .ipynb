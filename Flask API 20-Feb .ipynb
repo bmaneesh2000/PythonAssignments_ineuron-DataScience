{
 "cells": [
  {
   "cell_type": "code",
   "execution_count": null,
   "metadata": {},
   "outputs": [],
   "source": [
    "#1\n",
    "\n",
    "\"\"\" Q1. Explain GET and POST methods. \"\"\"\n",
    "\n",
    "#Answers\n",
    "\n",
    "\"\"\"\n",
    "HTTP GET: HTTP Get method is mainly used at the client (Browser) side to send a request to a specified server to get certain data or resources. \n",
    "Using this method the server should only let us receive the data and not change its state.Hence it is only used to view something and not to change it. \n",
    "Get method is one of the most used HTTP method.The request parameter of the get method is appended to the URL. Get request is better for the data which does not need to be secure.\n",
    "\n",
    "HTTP POST: HTTP Post method is mainly used at the client (Browser) side to send data to a Specified server in order to create or rewrite a particular resource/data. \n",
    "This data sent to the server is stored in the request body of the HTTP request. \n",
    "Post method eventually leads to the creation of a new resource or updating an existing one. Due to this dynamic use, it is one of the most used HTTP methods. \n",
    "It is not one of the most secure methods because the data that is been sent is included in the body of the request and not in the URL. \n",
    "Post request is better for the data which needs to be secure.\n",
    "\"\"\""
   ]
  },
  {
   "cell_type": "code",
   "execution_count": null,
   "metadata": {},
   "outputs": [],
   "source": [
    "#2\n",
    "\n",
    "\"\"\" Q2. Why is request used in Flask? \"\"\"\n",
    "\n",
    "#Answers\n",
    "\n",
    "\"\"\"  The Request, in Flask, is an object that contains all the data sent from the Client to Server. This data can be recovered using the GET/POST Methods.\"\"\""
   ]
  },
  {
   "cell_type": "code",
   "execution_count": null,
   "metadata": {},
   "outputs": [],
   "source": [
    "#3\n",
    "\n",
    "\"\"\" Q3. Why is redirect() used in Flask? \"\"\"\n",
    "\n",
    "#Answes\n",
    "\n",
    "\"\"\"\n",
    "Flask class has a redirect() function. When called, it returns a response object and redirects the user to another target location with specified status code.\n",
    "\n",
    "Syntax :\n",
    "\n",
    "Flask.redirect(location, statuscode, response)\n",
    "\n",
    "Examples:\n",
    "\n",
    "redirect(url_for('index'))\n",
    "\n",
    "\"\"\""
   ]
  },
  {
   "cell_type": "code",
   "execution_count": null,
   "metadata": {},
   "outputs": [],
   "source": [
    "#4\n",
    "\n",
    "\"\"\" Q4. What are templates in Flask? Why is the render_template() function used? \"\"\"\n",
    "\n",
    "#Answers\n",
    "\n",
    "\"\"\"\n",
    "Templates are files that contain static data as well as placeholders for dynamic data. \n",
    "A template is rendered with specific data to produce a final document. \n",
    "Flask uses the Jinja template library to render templates.\n",
    "\n",
    "render_template() function is used to serve and render an template on a flask application\n",
    "\"\"\""
   ]
  },
  {
   "cell_type": "code",
   "execution_count": null,
   "metadata": {},
   "outputs": [],
   "source": [
    "#5\n",
    "\n",
    "\"\"\" Q5. Create a simple API. Use Postman to test it. Attach the screenshot of the output in the Jupyter Notebook. \"\"\"\n",
    "\n",
    "#Answers\n",
    "\n",
    "from flask import Flask,request ,render_template , jsonify\n",
    "\n",
    "app = Flask(__name__)\n",
    "\n",
    "\n",
    "\n",
    "@app.route('/API',methods=['POST'])\n",
    "def API():\n",
    "    if(request.method == 'POST'):\n",
    "        ops = request.json['o']\n",
    "        num1 = int(request.json['num1'])\n",
    "        num2 = int(request.json['num2'])\n",
    "        if ops == 'add':\n",
    "            r = num1+num2\n",
    "            result = \"The sum of \" + str(num1) + 'and ' + str(num2) + \"is \" + str(r)\n",
    "        if ops == 'subtract':\n",
    "            r = num1-num2\n",
    "            result = \"The subtract of \" + str(num1) + 'and ' + str(num2) + \"is \" + str(r)\n",
    "        if ops == 'multiply':\n",
    "            r = num1*num2\n",
    "            result = \"The multiply of \" + str(num1) + 'and ' + str(num2) + \"is \" + str(r)\n",
    "        if ops == 'divide':\n",
    "            r = num1/num2\n",
    "            result = \"The divide of \" + str(num1) + 'and ' + str(num2) + \"is \" + str(r)\n",
    "            \n",
    "        return jsonify(result)\n",
    "\n",
    "if __name__==\"__main__\":\n",
    "    app.run(host=\"0.0.0.0\")"
   ]
  },
  {
   "cell_type": "markdown",
   "metadata": {},
   "source": [
    "![Q2Output](API.png)"
   ]
  }
 ],
 "metadata": {
  "kernelspec": {
   "display_name": "Python 3",
   "language": "python",
   "name": "python3"
  },
  "language_info": {
   "codemirror_mode": {
    "name": "ipython",
    "version": 3
   },
   "file_extension": ".py",
   "mimetype": "text/x-python",
   "name": "python",
   "nbconvert_exporter": "python",
   "pygments_lexer": "ipython3",
   "version": "3.10.6"
  },
  "orig_nbformat": 4,
  "vscode": {
   "interpreter": {
    "hash": "916dbcbb3f70747c44a77c7bcd40155683ae19c65e1c03b4aa3499c5328201f1"
   }
  }
 },
 "nbformat": 4,
 "nbformat_minor": 2
}
