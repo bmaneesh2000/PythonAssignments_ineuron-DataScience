{
 "cells": [
  {
   "cell_type": "code",
   "execution_count": null,
   "metadata": {},
   "outputs": [],
   "source": [
    "#1\n",
    "\n",
    "\"\"\"Q1. What is an Exception in python? Write the difference between Exceptions and syntax errors\"\"\"\n",
    "\n",
    "#Answer\n",
    "\n",
    "\"\"\" \n",
    "\n",
    "# Syntax Errors : When the proper syntax of the language is not followed then a syntax error is thrown.\n",
    "\n",
    "example:\n",
    "\n",
    "i=in()\n",
    "printf(\"i\")\n",
    "\n",
    "# Exceptions : When in the runtime an error that occurs after passing the syntax test is called exception or logical type. \n",
    "Usually while perforiming an unordodox operation or taking in invalid input.\n",
    "\n",
    "example:\n",
    "\n",
    "d = 900 / 0\n",
    "print(d)\n",
    "\n",
    "\n",
    "\"\"\"\n"
   ]
  },
  {
   "cell_type": "code",
   "execution_count": 1,
   "metadata": {},
   "outputs": [
    {
     "ename": "ZeroDivisionError",
     "evalue": "division by zero",
     "output_type": "error",
     "traceback": [
      "\u001b[0;31m---------------------------------------------------------------------------\u001b[0m",
      "\u001b[0;31mZeroDivisionError\u001b[0m                         Traceback (most recent call last)",
      "Cell \u001b[0;32mIn[1], line 9\u001b[0m\n\u001b[1;32m      5\u001b[0m \u001b[39m#Answer\u001b[39;00m\n\u001b[1;32m      7\u001b[0m \u001b[39m\"\"\"If an Exception is not handled then it will stop executing the next lines of the script written and will give an error\"\"\"\u001b[39;00m\n\u001b[0;32m----> 9\u001b[0m d\u001b[39m=\u001b[39m\u001b[39m900\u001b[39;49m\u001b[39m/\u001b[39;49m\u001b[39m0\u001b[39;49m\n\u001b[1;32m     10\u001b[0m \u001b[39mprint\u001b[39m(d)\n\u001b[1;32m     11\u001b[0m d\u001b[39m=\u001b[39m\u001b[39m\"\u001b[39m\u001b[39mthis is not excecuted\u001b[39m\u001b[39m\"\u001b[39m\n",
      "\u001b[0;31mZeroDivisionError\u001b[0m: division by zero"
     ]
    }
   ],
   "source": [
    "#2\n",
    "\n",
    "\"\"\"Q2. What happens when an exception is not handled? Explain with an example\"\"\"\n",
    "\n",
    "#Answer\n",
    "\n",
    "\"\"\"If an Exception is not handled then it will stop executing the next lines of the script written and will give an error\"\"\"\n",
    "\n",
    "d=900/0\n",
    "print(d)\n",
    "d=\"this is not excecuted\""
   ]
  },
  {
   "cell_type": "code",
   "execution_count": 2,
   "metadata": {},
   "outputs": [
    {
     "name": "stdout",
     "output_type": "stream",
     "text": [
      "Zero div error is showing\n",
      "This will be executed\n"
     ]
    }
   ],
   "source": [
    "#3\n",
    "\n",
    "\"\"\"Q3. Which Python statements are used to catch and handle exceptions? Explin with an example\"\"\"\n",
    "\n",
    "#Answers\n",
    "\n",
    "\"\"\"\n",
    "\n",
    "Try and Except statement is used to handle errors within our code.The try block is used to check some code for errors.\n",
    "Whereas the code inside the except block will execute whenever the program encounters some error in the preceding try block.\n",
    "\n",
    "Syntax:\n",
    "\n",
    "try:\n",
    "    Stmt\n",
    "Except Exception as e:\n",
    "    Stmt\n",
    "\n",
    "\"\"\"\n",
    "\n",
    "#Example\n",
    "\n",
    "try:\n",
    "    d=900/0\n",
    "    print(d)\n",
    "except Exception as e:\n",
    "    print(\"Zero div error is showing\")\n",
    "\n",
    "print(\"This will be executed\")\n",
    "\n",
    "\n"
   ]
  },
  {
   "cell_type": "code",
   "execution_count": 3,
   "metadata": {},
   "outputs": [
    {
     "name": "stdout",
     "output_type": "stream",
     "text": [
      "90.0\n",
      " No exceptions faced :3\n"
     ]
    }
   ],
   "source": [
    "#4\n",
    "\n",
    "\"\"\" \n",
    "Q4. Explain with an example:\n",
    "\n",
    "#a try and else\n",
    "#b finally\n",
    "#c raise\n",
    "\n",
    "\"\"\"\n",
    "\n",
    "#Answer\n",
    "\n"
   ]
  },
  {
   "cell_type": "code",
   "execution_count": 4,
   "metadata": {},
   "outputs": [
    {
     "name": "stdout",
     "output_type": "stream",
     "text": [
      "90.0\n",
      " No exceptions faced\n"
     ]
    }
   ],
   "source": [
    "#a Try and else\n",
    "\n",
    "\"\"\" \n",
    "Try : The try block is used to check some code for errors.\n",
    "Else : The code enters the else block only if the try clause does not raise an exception.\n",
    "\"\"\"\n",
    "\n",
    "#example\n",
    "\n",
    "try:\n",
    "    d=900/10\n",
    "    print(d)\n",
    "except Exception as e:\n",
    "    print(\"Zero div error is showing\")\n",
    "\n",
    "else:\n",
    "    print(\" No exceptions faced\")"
   ]
  },
  {
   "cell_type": "code",
   "execution_count": 6,
   "metadata": {},
   "outputs": [
    {
     "name": "stdout",
     "output_type": "stream",
     "text": [
      "Zero div error is showing\n",
      " No exceptions faced\n"
     ]
    }
   ],
   "source": [
    "#b finally\n",
    "\n",
    "\"\"\" \n",
    "\n",
    "finally : \n",
    "\n",
    "The finally keyword always executed after try and except blocks. \n",
    "The finally block always executes after normal termination of try block or after try block terminates due to some exception. \n",
    "even if you return in the except block still the finally block will execute\n",
    "\n",
    "\"\"\"\n",
    "\n",
    "#example\n",
    "\n",
    "try:\n",
    "    d=900/0\n",
    "    print(d)\n",
    "except Exception as e:\n",
    "    print(\"Zero div error is showing\")\n",
    "\n",
    "finally:\n",
    "    print(\" exceptions faced but i will still execute\")\n"
   ]
  },
  {
   "cell_type": "code",
   "execution_count": 10,
   "metadata": {},
   "outputs": [
    {
     "ename": "Exception",
     "evalue": "The number is equal to 55",
     "output_type": "error",
     "traceback": [
      "\u001b[0;31m---------------------------------------------------------------------------\u001b[0m",
      "\u001b[0;31mException\u001b[0m                                 Traceback (most recent call last)",
      "Cell \u001b[0;32mIn[10], line 12\u001b[0m\n\u001b[1;32m     10\u001b[0m a \u001b[39m=\u001b[39m \u001b[39m55\u001b[39m\n\u001b[1;32m     11\u001b[0m \u001b[39mif\u001b[39;00m a \u001b[39m==\u001b[39m \u001b[39m55\u001b[39m:\n\u001b[0;32m---> 12\u001b[0m     \u001b[39mraise\u001b[39;00m \u001b[39mException\u001b[39;00m(\u001b[39m\"\u001b[39m\u001b[39mThe number is equal to 55\u001b[39m\u001b[39m\"\u001b[39m)\n\u001b[1;32m     14\u001b[0m \u001b[39mprint\u001b[39m(\u001b[39m\"\u001b[39m\u001b[39mWont excecute after exception\u001b[39m\u001b[39m\"\u001b[39m)\n",
      "\u001b[0;31mException\u001b[0m: The number is equal to 55"
     ]
    }
   ],
   "source": [
    "#c raise\n",
    "\n",
    "\"\"\" \n",
    "Raise: Raise Keyword is used to raise exceptions or errors. The raise keyword raises an error and stops the control flow of the program\n",
    "\"\"\"\n",
    "\n",
    "#example\n",
    "\n",
    "\n",
    "a = 55\n",
    "if a == 55:\n",
    "    raise Exception(\"The number is equal to 55\")\n",
    "\n",
    "print(\"Wont excecute after exception\")"
   ]
  },
  {
   "cell_type": "code",
   "execution_count": 11,
   "metadata": {},
   "outputs": [
    {
     "name": "stdout",
     "output_type": "stream",
     "text": [
      "A New Exception occurred:  6\n"
     ]
    }
   ],
   "source": [
    "#5\n",
    "\n",
    "\"\"\" Q5. What are Custom Exceptions in python? Why do we need Custom Exceptions? Explain with an example \"\"\"\n",
    "\n",
    "#Answer\n",
    "\n",
    "\"\"\" \n",
    "Custom Exceptions are Exceptions that are defined by the coder depending upon the project requirements\n",
    "\n",
    "Custom Exceptions or User defined exceptions are used to create and rase exceptions that may not be causing an runtime error by itself \n",
    "but may be set limitations to your program considering the nature of your project\n",
    "\"\"\"\n",
    "\n",
    "#Example\n",
    "\n",
    "class MyError(Exception):\n",
    "    def __init__(self, value):\n",
    "        self.value = value\n",
    "\n",
    "try:\n",
    "    raise(MyError(3*2))\n",
    " \n",
    "except MyError as error:\n",
    "    print('A New Exception occurred: ', error.value)\n"
   ]
  },
  {
   "cell_type": "code",
   "execution_count": 17,
   "metadata": {},
   "outputs": [
    {
     "name": "stdout",
     "output_type": "stream",
     "text": [
      "age is smaller than zero\n",
      "age is very big \n",
      "age is valid\n"
     ]
    }
   ],
   "source": [
    "#6\n",
    "\n",
    "\"\"\" Q6. Create an custom exception class. Use this class to handle an exception.\"\"\"\n",
    "\n",
    "#Answer\n",
    "\n",
    "\"\"\" An program to raise an exception if the age is either very big (above 150) or very small (below 0)\"\"\"\n",
    "\n",
    "class vage(Exception) : \n",
    "    def __init__(self, m) :\n",
    "        self.msg = m\n",
    "\n",
    "def validate_age(age) : \n",
    "    if age < 0 : \n",
    "        raise vage(\"age is smaller than zero\")\n",
    "    elif age > 150 : \n",
    "        raise vage(\"age is very big \" )\n",
    "    else :\n",
    "        print(\"age is valid\" )\n",
    "\n",
    "try : \n",
    "    age = -200\n",
    "    validate_age(age)\n",
    "except vage as e : \n",
    "    print(e)\n",
    "\n",
    "try : \n",
    "    age = 1200\n",
    "    validate_age(age)\n",
    "except vage as e : \n",
    "    print(e)\n",
    "\n",
    "try : \n",
    "    age = 20\n",
    "    validate_age(age)\n",
    "except vage as e : \n",
    "    print(e)"
   ]
  }
 ],
 "metadata": {
  "kernelspec": {
   "display_name": "Python 3",
   "language": "python",
   "name": "python3"
  },
  "language_info": {
   "codemirror_mode": {
    "name": "ipython",
    "version": 3
   },
   "file_extension": ".py",
   "mimetype": "text/x-python",
   "name": "python",
   "nbconvert_exporter": "python",
   "pygments_lexer": "ipython3",
   "version": "3.10.6"
  },
  "orig_nbformat": 4,
  "vscode": {
   "interpreter": {
    "hash": "916dbcbb3f70747c44a77c7bcd40155683ae19c65e1c03b4aa3499c5328201f1"
   }
  }
 },
 "nbformat": 4,
 "nbformat_minor": 2
}
