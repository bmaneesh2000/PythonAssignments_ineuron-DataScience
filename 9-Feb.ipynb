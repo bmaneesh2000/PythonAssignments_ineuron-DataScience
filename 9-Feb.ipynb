{
 "cells": [
  {
   "cell_type": "code",
   "execution_count": 1,
   "metadata": {},
   "outputs": [
    {
     "data": {
      "text/plain": [
       "'Truck'"
      ]
     },
     "execution_count": 1,
     "metadata": {},
     "output_type": "execute_result"
    }
   ],
   "source": [
    "#1\n",
    "\n",
    "\"\"\"Q1, Create a vehicle class with an init method having instance variables as name_of_vehicle, max_speed\n",
    "and average_of_vehicle.\"\"\"\n",
    "\n",
    "#Answers\n",
    "\n",
    "class Vehical:\n",
    "    def __init__(self,name_of_vehicle,max_speed,average_of_vehicle):\n",
    "        self.name_of_vehicle=name_of_vehicle\n",
    "        self.max_speed=max_speed\n",
    "        self.average_of_vehicle=average_of_vehicle\n",
    "\n",
    "v1=Vehical(\"Truck\",20,22)\n",
    "v1.name_of_vehicle"
   ]
  },
  {
   "cell_type": "code",
   "execution_count": 5,
   "metadata": {},
   "outputs": [
    {
     "name": "stdout",
     "output_type": "stream",
     "text": [
      "['maruti', 5]\n",
      "['toyota', 6]\n"
     ]
    }
   ],
   "source": [
    "#2\n",
    "\n",
    "\"\"\"Q2. Create a child class car from the vehicle class created in Que 1, which will inherit the vehicle class.\n",
    "Create a method named seating_capacity which takes capacity as an argument and returns the name of\n",
    "the vehicle and its seating capacity.\"\"\"\n",
    "\n",
    "#Answers\n",
    "\n",
    "class Vehical:\n",
    "    def __init__(self,name_of_vehicle,max_speed,average_of_vehicle):\n",
    "        self.name_of_vehicle=name_of_vehicle\n",
    "        self.max_speed=max_speed\n",
    "        self.average_of_vehicle=average_of_vehicle\n",
    "\n",
    "class Car(Vehical):\n",
    "    def seating_capacity(self,capacity):\n",
    "        self.capacity=capacity\n",
    "        return [self.name_of_vehicle,self.capacity]\n",
    "\n",
    "maruti=Car(\"maruti\",30,22)\n",
    "toyota=Car(\"toyota\",30,22)\n",
    "\n",
    "print(maruti.seating_capacity(5))\n",
    "print(toyota.seating_capacity(6))\n"
   ]
  },
  {
   "cell_type": "code",
   "execution_count": 8,
   "metadata": {},
   "outputs": [
    {
     "name": "stdout",
     "output_type": "stream",
     "text": [
      "Mother\n",
      "Father\n",
      "Son\n"
     ]
    }
   ],
   "source": [
    "#3\n",
    "\n",
    "\"\"\"Q3. What is multiple inheritance? Write a python code to demonstrate multiple inheritance.\"\"\"\n",
    "\n",
    "#Answers\n",
    "\n",
    "\"\"\" When a class is derived from more than one base class it is called multiple Inheritance. The derived class inherits all the features of the base case.  \"\"\"\n",
    "\n",
    "#Example\n",
    "\n",
    "class Mom:\n",
    "    def func1(self):\n",
    "        print(\"Mother\")\n",
    "\n",
    " \n",
    " \n",
    "class Father:\n",
    "    def func2(self):\n",
    "        print(\"Father\")\n",
    "  \n",
    " \n",
    "class Son(Father, Mom):\n",
    "    def func3(self):\n",
    "        print(\"Son\")\n",
    " \n",
    "\n",
    "object = Son()\n",
    "object.func1()\n",
    "object.func2()\n",
    "object.func3()"
   ]
  },
  {
   "cell_type": "code",
   "execution_count": 10,
   "metadata": {},
   "outputs": [
    {
     "name": "stdout",
     "output_type": "stream",
     "text": [
      "maruti\n",
      "toyota\n"
     ]
    }
   ],
   "source": [
    "#4\n",
    "\n",
    "\"\"\"Q4. What are getter and setter in python? Create a class and create a getter and a setter method in this class.\"\"\"\n",
    "\n",
    "#Answers\n",
    "\n",
    "\"\"\"\n",
    "Getters and setters are used to ensure data encapsulation. We can make such that instance variable cant be accessed from outside the function.\n",
    "We use getters & setters to add validation logic around getting and setting a value and avoid direct access of a class field.\n",
    "\"\"\"\n",
    "\n",
    "#Example\n",
    "\n",
    "class Vehical:\n",
    "    def __init__(self,name_of_vehicle,max_speed,average_of_vehicle):\n",
    "        self.__name_of_vehicle=name_of_vehicle\n",
    "        self.__max_speed=max_speed\n",
    "        self.__average_of_vehicle=average_of_vehicle\n",
    "    def getname(self):\n",
    "        return self.__name_of_vehicle\n",
    "    def setname(self,nname):\n",
    "        self.__name_of_vehicle=nname\n",
    "\n",
    "car=Vehical(\"maruti\",20,25)\n",
    "print(car.getname())\n",
    "car.setname(\"toyota\")\n",
    "print(car.getname())\n"
   ]
  },
  {
   "cell_type": "code",
   "execution_count": 11,
   "metadata": {},
   "outputs": [
    {
     "name": "stdout",
     "output_type": "stream",
     "text": [
      "Son\n"
     ]
    }
   ],
   "source": [
    "#5\n",
    "\n",
    "\"\"\"Q5.What is method overriding in python? Write a python code to demonstrate method overriding.\"\"\"\n",
    "\n",
    "#Answer\n",
    "\n",
    "\"\"\"Method overriding is an ability of any object-oriented programming language that allows a subclass or child class \n",
    "to provide a specific implementation of a method that is already provided by one of its super-classes or parent classes. \n",
    "When a method in a subclass has the same name as a method in its super-class, then the method in the subclass is \n",
    "said to override the method in the super-class.\"\"\"\n",
    "\n",
    "#Example\n",
    "\n",
    "class Father:\n",
    "    def func(self):\n",
    "        print(\"Father\")\n",
    "  \n",
    " \n",
    "class Son(Father):\n",
    "    def func(self):\n",
    "        print(\"Son\")\n",
    " \n",
    "\n",
    "object = Son()\n",
    "\n",
    "object.func() #func() defined in father class is overwritten by the func() in child class\n",
    "\n"
   ]
  }
 ],
 "metadata": {
  "kernelspec": {
   "display_name": "Python 3",
   "language": "python",
   "name": "python3"
  },
  "language_info": {
   "codemirror_mode": {
    "name": "ipython",
    "version": 3
   },
   "file_extension": ".py",
   "mimetype": "text/x-python",
   "name": "python",
   "nbconvert_exporter": "python",
   "pygments_lexer": "ipython3",
   "version": "3.10.6"
  },
  "orig_nbformat": 4,
  "vscode": {
   "interpreter": {
    "hash": "916dbcbb3f70747c44a77c7bcd40155683ae19c65e1c03b4aa3499c5328201f1"
   }
  }
 },
 "nbformat": 4,
 "nbformat_minor": 2
}
