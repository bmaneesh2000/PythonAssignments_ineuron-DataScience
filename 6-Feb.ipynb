{
 "cells": [
  {
   "cell_type": "code",
   "execution_count": 18,
   "metadata": {},
   "outputs": [
    {
     "name": "stdout",
     "output_type": "stream",
     "text": [
      "[1, 2, 3, 4, 44, 55, 66, True, False, 34, 56, 78, 89, 34, 1, 2, 3, 1, 34, 'key2', 55, 67, 78, 89, 4, 45, 22, 61, 34, 56, 'data science', 'Machine Learning']\n"
     ]
    }
   ],
   "source": [
    "#1\n",
    "\n",
    "\"\"\"Q1. Create a function which will take a list as an argument and return the product of all the numbers\n",
    "after creating a flat list.\n",
    "Use the below-given list as an argument for your function.\n",
    "list1 = [1,2,3,4, [44,55,66, True], False, (34,56,78,89,34), {1,2,3,3,2,1}, {1:34, \"key2\": [55, 67, 78, 89], 4: (45,\n",
    "22, 61, 34)}, [56, 'data science'], 'Machine Learning']\n",
    "Note: you must extract numeric keys and values of the dictionary also.\"\"\"\n",
    "\n",
    "#Answers\n",
    "\n",
    "def Flat(ll):\n",
    "    l=[]\n",
    "    for x in ll:\n",
    "        if (type(x) is set) :\n",
    "            l.extend(x)\n",
    "        elif (type(x) is tuple):\n",
    "            l.extend(x)\n",
    "        elif (type(x) is list):\n",
    "            l.extend(x)\n",
    "        elif (type(x) is dict):\n",
    "            for xx in x.items():\n",
    "                if (type(xx[1]) is list) or (type(xx[1]) is tuple) or (type(xx[1]) is set):\n",
    "                    l.append(xx[0])\n",
    "                    l.extend(xx[1])\n",
    "                else:\n",
    "                    l.extend(xx)\n",
    "        else:\n",
    "            l.append(x)\n",
    "\n",
    "    return l\n",
    "\n",
    "li = [1,2,3,4, [44,55,66, True], False, (34,56,78,89,34), {1,2,3,3,2,1}, {1:34, \"key2\": [55, 67, 78, 89], 4: (45,22, 61, 34)}, [56, 'data science'], 'Machine Learning']\n",
    "l=Flat(li)\n",
    "print(l)"
   ]
  },
  {
   "cell_type": "code",
   "execution_count": 24,
   "metadata": {},
   "outputs": [
    {
     "name": "stdout",
     "output_type": "stream",
     "text": [
      "I$wznt$to$yecome$z$Dztz$Scientist\n"
     ]
    }
   ],
   "source": [
    "#2\n",
    "\n",
    "\"\"\"Q2. Write a python program for encrypting a message sent to you by your friend. The logic of encryption\n",
    "should be such that, for a the output should be z. For b, the output should be y. For c, the output should\n",
    "be x respectively. Also, the whitespace should be replaced with a dollar sign. Keep the punctuation\n",
    "marks unchanged.\n",
    "Input Sentence: I want to become a Data Scientist.\n",
    "Encrypt the above input sentence using the program you just created.\n",
    "Note: Convert the given input sentence into lowercase before encrypting. The final output should be\n",
    "lowercase. \"\"\"\n",
    "\n",
    "#Answer\n",
    "\n",
    "def r(x):\n",
    "    if x==\"a\":\n",
    "        return \"z\"\n",
    "    elif x==\"b\":\n",
    "        return \"y\"\n",
    "    elif x==\"c\":\n",
    "        return x\n",
    "    elif x==\" \":\n",
    "        return \"$\"\n",
    "    else:\n",
    "        return x\n",
    "\n",
    "i=\"I want to become a Data Scientist\"\n",
    "l=list(i)\n",
    "l=list(map(r,l))\n",
    "l=\"\".join(l)\n",
    "print(l)"
   ]
  }
 ],
 "metadata": {
  "kernelspec": {
   "display_name": "base",
   "language": "python",
   "name": "python3"
  },
  "language_info": {
   "codemirror_mode": {
    "name": "ipython",
    "version": 3
   },
   "file_extension": ".py",
   "mimetype": "text/x-python",
   "name": "python",
   "nbconvert_exporter": "python",
   "pygments_lexer": "ipython3",
   "version": "3.9.13"
  },
  "orig_nbformat": 4,
  "vscode": {
   "interpreter": {
    "hash": "f6ee28930b5c77c9b54538a9e3d0ae5d2074831a57586ad209b0c9904ff17401"
   }
  }
 },
 "nbformat": 4,
 "nbformat_minor": 2
}
