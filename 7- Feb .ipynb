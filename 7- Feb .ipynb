{
 "cells": [
  {
   "cell_type": "code",
   "execution_count": 13,
   "metadata": {},
   "outputs": [
    {
     "name": "stdout",
     "output_type": "stream",
     "text": [
      "Valid Password\n"
     ]
    }
   ],
   "source": [
    "#1\n",
    "\n",
    "\"\"\"Q1. You are writing code for a company. The requirement of the company is that you create a python\n",
    "function that will check whether the password entered by the user is correct or not. The function should\n",
    "take the password as input and return the string “Valid Password” if the entered password follows the\n",
    "below-given password guidelines else it should return “Invalid Password”.\n",
    "Note: 1. The Password should contain at least two uppercase letters and at least two lowercase letters.\n",
    "2. The Password should contain at least a number and three special characters.\n",
    "3. The length of the password should be 10 characters long.\"\"\"\n",
    "\n",
    "#Answers\n",
    "\n",
    "def Valid(s):\n",
    "    ucc=0\n",
    "    lcc=0\n",
    "    nn=0\n",
    "    nsc=0\n",
    "    ss='[@_!#$%^&*()<>?/\\|}{~:]'\n",
    "    if len(s)==10:\n",
    "        for x in s:\n",
    "            if x.isupper():\n",
    "                ucc=ucc+1\n",
    "            elif x.islower():\n",
    "                lcc=lcc+1\n",
    "            elif x.isnumeric():\n",
    "                nn=nn+1\n",
    "            elif x in ss:\n",
    "                nsc=nsc+1\n",
    "        if ucc<2 or lcc<2:\n",
    "            return \"Invalid Password c2\"\n",
    "        if nn<1 or nsc<3:\n",
    "            return \"Invalid Password c3\"\n",
    "    else:\n",
    "        return \"Invalid Password c1\"\n",
    "\n",
    "    return \"Valid Password\"\n",
    "\n",
    "i=input()\n",
    "v=Valid(i)\n",
    "print(v)\n",
    "\n",
    "\n",
    "        \n"
   ]
  },
  {
   "cell_type": "code",
   "execution_count": 32,
   "metadata": {},
   "outputs": [
    {
     "data": {
      "text/plain": [
       "True"
      ]
     },
     "execution_count": 32,
     "metadata": {},
     "output_type": "execute_result"
    }
   ],
   "source": [
    "#2\n",
    "\n",
    "\"\"\"Q2. Solve the below-given questions using at least one of the following:\n",
    "1. Lambda function\n",
    "2. Filter function\n",
    "3. Map function\n",
    "4. List Comprehension\n",
    "\n",
    "- Check if the string starts with a particular letter\n",
    "- Check if the string is numeric\n",
    "- Sort a list of tuples having fruit names and their quantity. [(\"mango\",99),(\"orange\",80), (\"grapes\", 1000)]\n",
    "- Find the squares of numbers from 1 to 10\n",
    "- Find the cube root of numbers from 1 to 10\n",
    "- Check if a given number is even\n",
    "- Filter odd numbers from the given list.\n",
    "[1,2,3,4,5,6,7,8,9,10]\n",
    "- Sort a list of integers into positive and negative integers lists.\n",
    "[1,2,3,4,5,6,-1,-2,-3,-4,-5,0]\"\"\"\n",
    "\n",
    "#Answer\n"
   ]
  },
  {
   "cell_type": "code",
   "execution_count": 36,
   "metadata": {},
   "outputs": [
    {
     "name": "stdout",
     "output_type": "stream",
     "text": [
      "True\n"
     ]
    }
   ],
   "source": [
    "# 2 a Check if the string starts with a particular letter\n",
    "\n",
    "i=input(\"Enter the string\")\n",
    "letter=input(\"Enter the letter\")\n",
    "i=i.lower()\n",
    "letter=letter.lower()\n",
    "l=(lambda i,letter : True if i[0]==letter else False)\n",
    "print(l(i,letter))"
   ]
  },
  {
   "cell_type": "code",
   "execution_count": 5,
   "metadata": {},
   "outputs": [
    {
     "name": "stdout",
     "output_type": "stream",
     "text": [
      "False\n",
      "False\n"
     ]
    }
   ],
   "source": [
    "# 2 b Check if the string is numeric\n",
    "\n",
    "i=input()\n",
    "l=(lambda i:True if i.isnumeric() else False)\n",
    "print(l(i))\n",
    "\n",
    "\n",
    "#or using list comprehensions\n",
    "\n",
    "\n",
    "n=\"0123456789\"\n",
    "ll=[1 if x in n else 0 for x in i]\n",
    "ll=list(set(ll))\n",
    "if 0 in ll:\n",
    "    print(False)\n",
    "else:\n",
    "    print(True)\n",
    "\n"
   ]
  },
  {
   "cell_type": "code",
   "execution_count": 15,
   "metadata": {},
   "outputs": [
    {
     "name": "stdout",
     "output_type": "stream",
     "text": [
      "[('orange', 80), ('mango', 99), ('grapes', 1000)]\n",
      "[('orange', 80), ('mango', 99), ('grapes', 1000)]\n"
     ]
    }
   ],
   "source": [
    "# 2 c Sort a list of tuples having fruit names and their quantity. [(\"mango\",99),(\"orange\",80), (\"grapes\", 1000)]\n",
    "\n",
    "#Soring wrt the 2nd element \n",
    "\n",
    "l=[(\"mango\",99),(\"orange\",80), (\"grapes\", 1000)]\n",
    "\n",
    "# using sort functions\n",
    "\n",
    "l.sort(key=lambda x:x[1])\n",
    "print(l)\n",
    "\n",
    "# or using lst comprehensions\n",
    "\n",
    "l=[l.pop(l.index(min(l,key=lambda x:x[1]))) for x in range(len(l))]\n",
    "print(l)\n"
   ]
  },
  {
   "cell_type": "code",
   "execution_count": 18,
   "metadata": {},
   "outputs": [
    {
     "name": "stdout",
     "output_type": "stream",
     "text": [
      "[1, 4, 9, 16, 25, 36, 49, 64, 81, 100]\n",
      "[1, 4, 9, 16, 25, 36, 49, 64, 81, 100]\n"
     ]
    }
   ],
   "source": [
    "#- 2 d Find the squares of numbers from 1 to 10\n",
    "\n",
    "# Using List comprehension\n",
    "\n",
    "l=[x**2 for x in range(1,11)]\n",
    "print(l)\n",
    "\n",
    "# or Using map function\n",
    "\n",
    "l=list(map(lambda x:x**2, range(1,11)))\n",
    "print(l)\n",
    "\n"
   ]
  },
  {
   "cell_type": "code",
   "execution_count": 21,
   "metadata": {},
   "outputs": [
    {
     "name": "stdout",
     "output_type": "stream",
     "text": [
      "[1.0, 1.2599210498948732, 1.4422495703074083, 1.5874010519681994, 1.7099759466766968, 1.8171205928321397, 1.912931182772389, 2.0, 2.080083823051904, 2.154434690031884]\n",
      "[1.0, 1.2599210498948732, 1.4422495703074083, 1.5874010519681994, 1.7099759466766968, 1.8171205928321397, 1.912931182772389, 2.0, 2.080083823051904, 2.154434690031884]\n"
     ]
    }
   ],
   "source": [
    "# 2 e Find the cube root of numbers from 1 to 10\n",
    "\n",
    "from math import pow\n",
    "\n",
    "#List Comprehension\n",
    "\n",
    "l=[pow(num, (1/3)) for num in range(1,11)]\n",
    "print(l)\n",
    "\n",
    "#Map Function\n",
    "\n",
    "l=list(map(lambda num: pow(num, (1/3)),range(1,11)))\n",
    "print(l)\n",
    "\n"
   ]
  },
  {
   "cell_type": "code",
   "execution_count": 28,
   "metadata": {},
   "outputs": [
    {
     "name": "stdout",
     "output_type": "stream",
     "text": [
      "True\n"
     ]
    }
   ],
   "source": [
    "# 2 f Check if a given number is even\n",
    "\n",
    "i=int(input())\n",
    "\n",
    "l=(lambda i:True if i%2==0 else False)\n",
    "\n",
    "print(l(i))\n"
   ]
  },
  {
   "cell_type": "code",
   "execution_count": 32,
   "metadata": {},
   "outputs": [
    {
     "name": "stdout",
     "output_type": "stream",
     "text": [
      "[1, 3, 5, 7, 9]\n"
     ]
    }
   ],
   "source": [
    "# 2 g Filter odd numbers from the given list. [1,2,3,4,5,6,7,8,9,10]\n",
    "\n",
    "l=[1,2,3,4,5,6,7,8,9,10]\n",
    "f=list(filter(lambda x : True if x%2!=0 else False,l))\n",
    "print(f)"
   ]
  },
  {
   "cell_type": "code",
   "execution_count": 45,
   "metadata": {},
   "outputs": [
    {
     "name": "stdout",
     "output_type": "stream",
     "text": [
      "[0, 1, 2, 3, 4, 5, 6] [-5, -4, -3, -2, -1]\n",
      "[0, 1, 2, 3, 4, 5, 6] [-5, -4, -3, -2, -1]\n"
     ]
    }
   ],
   "source": [
    "# 2 h Sort the given list of integers into positive and negative integers lists. [1,2,3,4,5,6,-1,-2,-3,-4,-5,0]\n",
    "\n",
    "l= [1,2,3,4,5,6,-1,-2,-3,-4,-5,0]\n",
    "\n",
    "# Filtering for positive integer list and sorting them using Fiter()\n",
    "\n",
    "f1=list(filter(lambda x : True if x>=0 else False,l))\n",
    "f2=list(filter(lambda x : True if x<0 else False,l))\n",
    "f1.sort()\n",
    "f2.sort()\n",
    "print(f1,f2)\n",
    "\n",
    "# Doing the same using list comprehension\n",
    "\n",
    "f1=[x for x in l if x>=0 ]\n",
    "f2=[x for x in l if x<0 ]\n",
    "f1.sort()\n",
    "f2.sort()\n",
    "print(f1,f2)\n",
    "\n",
    "\n"
   ]
  }
 ],
 "metadata": {
  "kernelspec": {
   "display_name": "Python 3",
   "language": "python",
   "name": "python3"
  },
  "language_info": {
   "codemirror_mode": {
    "name": "ipython",
    "version": 3
   },
   "file_extension": ".py",
   "mimetype": "text/x-python",
   "name": "python",
   "nbconvert_exporter": "python",
   "pygments_lexer": "ipython3",
   "version": "3.10.6"
  },
  "orig_nbformat": 4,
  "vscode": {
   "interpreter": {
    "hash": "916dbcbb3f70747c44a77c7bcd40155683ae19c65e1c03b4aa3499c5328201f1"
   }
  }
 },
 "nbformat": 4,
 "nbformat_minor": 2
}
