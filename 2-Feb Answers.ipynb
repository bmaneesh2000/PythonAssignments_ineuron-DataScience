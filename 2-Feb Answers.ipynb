{
 "cells": [
  {
   "cell_type": "code",
   "execution_count": 6,
   "metadata": {},
   "outputs": [
    {
     "data": {
      "text/plain": [
       "(1, 2, 3, 'hi', 'hello')"
      ]
     },
     "execution_count": 6,
     "metadata": {},
     "output_type": "execute_result"
    }
   ],
   "source": [
    "#1\n",
    "\n",
    "#Python Tuple is a collection of objects separated by commas. a tuple is immutable.\n",
    "\n",
    "l=(1,2,3,\"hi\",\"hello\")\n",
    "l"
   ]
  },
  {
   "cell_type": "code",
   "execution_count": 1,
   "metadata": {},
   "outputs": [
    {
     "name": "stdout",
     "output_type": "stream",
     "text": [
      "2 1\n"
     ]
    }
   ],
   "source": [
    "#2 \n",
    "\n",
    "# count() & index()\n",
    "#Tuple only has 2 methods because it is immutable and cant be manupulated much\n",
    "\n",
    "l=(1,2,3,4,5,6,7,8,9,2)\n",
    "c=l.count(2)\n",
    "i=l.index(2)\n",
    "print(c,i)\n"
   ]
  },
  {
   "cell_type": "code",
   "execution_count": 3,
   "metadata": {},
   "outputs": [
    {
     "data": {
      "text/plain": [
       "{1, 2, 3, 4}"
      ]
     },
     "execution_count": 3,
     "metadata": {},
     "output_type": "execute_result"
    }
   ],
   "source": [
    "#3  Sets dont store duplicte elements\n",
    "\n",
    "List = [1, 1, 1, 2, 1, 3, 1, 4, 2, 1, 2, 2, 2, 3, 2, 4, 3, 1, 3, 2, 3, 3, 3, 4, 4, 1, 4, 2, 4, 3, 4, 4]\n",
    "s=set(List)\n",
    "s"
   ]
  },
  {
   "cell_type": "code",
   "execution_count": 4,
   "metadata": {},
   "outputs": [
    {
     "name": "stdout",
     "output_type": "stream",
     "text": [
      "{1, 2, 3, 4, 5, 6, 7, 11} {1, 2, 3, 4, 5, 6, 7, 11}\n"
     ]
    }
   ],
   "source": [
    "#4 \n",
    "\n",
    "# The union() method returns a set that contains all items from the original set, and all items from the specified set.\n",
    "# The update() method updates the current set, by adding items from another set .\n",
    "\n",
    "s={1,2,4,5,7,3,2,6}\n",
    "s2={2,4,6,3,11,4,7,5}\n",
    "\n",
    "s3=s.union(s2)\n",
    "s.update(s2)\n",
    "\n",
    "print(s,s3)\n"
   ]
  },
  {
   "cell_type": "code",
   "execution_count": 7,
   "metadata": {},
   "outputs": [
    {
     "data": {
      "text/plain": [
       "1"
      ]
     },
     "execution_count": 7,
     "metadata": {},
     "output_type": "execute_result"
    }
   ],
   "source": [
    "# 5\n",
    "# Dictionaries are used to store data values in key:value pairs. A dictionary is a collection which is ordered.\n",
    "\n",
    "d={\"maneesh\":1,\"manees\":2}\n",
    "d[\"maneesh\"]"
   ]
  },
  {
   "cell_type": "code",
   "execution_count": 8,
   "metadata": {},
   "outputs": [
    {
     "data": {
      "text/plain": [
       "'ffd'"
      ]
     },
     "execution_count": 8,
     "metadata": {},
     "output_type": "execute_result"
    }
   ],
   "source": [
    "#6 Nested Dictionaries\n",
    "\n",
    "# We can store dictionaries within dictionaries these are called nested dictionaries\n",
    "\n",
    "d={\n",
    "    \"one\": {\n",
    "        1:100,\n",
    "        2:200,\n",
    "        3:300\n",
    "    },\n",
    "    \"two\":{\n",
    "        33:33131313,\n",
    "        332:222,\n",
    "        2:\"ffd\"\n",
    "    }\n",
    "}\n",
    "\n",
    "d[\"two\"][2]"
   ]
  },
  {
   "cell_type": "code",
   "execution_count": 9,
   "metadata": {},
   "outputs": [
    {
     "data": {
      "text/plain": [
       "{'language': 'Python',\n",
       " 'course': 'Data Science Masters',\n",
       " 'topics': ['Python', 'Machine Learning', 'Deep Learning']}"
      ]
     },
     "execution_count": 9,
     "metadata": {},
     "output_type": "execute_result"
    }
   ],
   "source": [
    "#7 setdefault to add\n",
    "\n",
    "d = {'language' : 'Python', 'course': 'Data Science Masters'}\n",
    "l= [\"Python\", \"Machine Learning\" , \"Deep Learning\"]\n",
    "d.setdefault(\"topics\",l)\n",
    "d"
   ]
  },
  {
   "cell_type": "code",
   "execution_count": 1,
   "metadata": {},
   "outputs": [
    {
     "name": "stdout",
     "output_type": "stream",
     "text": [
      "dict_keys(['Sport', 'Teams'])\n",
      "dict_values(['Cricket', ['India', 'Australia', 'England', 'South Africa', 'Sri Lanka', 'New Zealand']])\n",
      "dict_items([('Sport', 'Cricket'), ('Teams', ['India', 'Australia', 'England', 'South Africa', 'Sri Lanka', 'New Zealand'])])\n"
     ]
    }
   ],
   "source": [
    "#8 \n",
    "\n",
    "# The three main view objects of dictionary in python are keys, values and items.\n",
    "\n",
    "d = {'Sport': 'Cricket' , 'Teams': ['India', 'Australia', 'England', 'South Africa', 'Sri Lanka', 'New Zealand']}\n",
    "\n",
    "print(d.keys())\n",
    "print(d.values())\n",
    "print(d.items())"
   ]
  }
 ],
 "metadata": {
  "kernelspec": {
   "display_name": "Python 3",
   "language": "python",
   "name": "python3"
  },
  "language_info": {
   "codemirror_mode": {
    "name": "ipython",
    "version": 3
   },
   "file_extension": ".py",
   "mimetype": "text/x-python",
   "name": "python",
   "nbconvert_exporter": "python",
   "pygments_lexer": "ipython3",
   "version": "3.10.6"
  },
  "orig_nbformat": 4,
  "vscode": {
   "interpreter": {
    "hash": "916dbcbb3f70747c44a77c7bcd40155683ae19c65e1c03b4aa3499c5328201f1"
   }
  }
 },
 "nbformat": 4,
 "nbformat_minor": 2
}
